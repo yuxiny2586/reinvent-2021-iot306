{
 "cells": [
  {
   "cell_type": "markdown",
   "id": "9ae9eedd",
   "metadata": {},
   "source": [
    "# People counter model preparation and compilation\n",
    "\n",
    "## Install and import necessary Python libraries\n",
    "In this first step, we install some useful Python libraries for us to easily prepare the model to be compiled by SageMaker NEO."
   ]
  },
  {
   "cell_type": "code",
   "execution_count": 2,
   "id": "2d7bc8cb",
   "metadata": {},
   "outputs": [
    {
     "name": "stdout",
     "output_type": "stream",
     "text": [
      "Collecting gluoncv\n",
      "  Using cached gluoncv-0.10.4.post4-py2.py3-none-any.whl (1.3 MB)\n",
      "Collecting autocfg\n",
      "  Using cached autocfg-0.0.8-py3-none-any.whl (13 kB)\n",
      "Collecting portalocker\n",
      "  Using cached portalocker-2.3.2-py2.py3-none-any.whl (15 kB)\n",
      "Requirement already satisfied: requests in /home/ec2-user/anaconda3/envs/mxnet_latest_p37/lib/python3.7/site-packages (from gluoncv) (2.26.0)\n",
      "Requirement already satisfied: tqdm in /home/ec2-user/anaconda3/envs/mxnet_latest_p37/lib/python3.7/site-packages (from gluoncv) (4.57.0)\n",
      "Requirement already satisfied: scipy in /home/ec2-user/anaconda3/envs/mxnet_latest_p37/lib/python3.7/site-packages (from gluoncv) (1.5.3)\n",
      "Requirement already satisfied: pyyaml in /home/ec2-user/anaconda3/envs/mxnet_latest_p37/lib/python3.7/site-packages (from gluoncv) (5.4.1)\n",
      "Requirement already satisfied: matplotlib in /home/ec2-user/anaconda3/envs/mxnet_latest_p37/lib/python3.7/site-packages (from gluoncv) (3.3.4)\n",
      "Collecting yacs\n",
      "  Using cached yacs-0.1.8-py3-none-any.whl (14 kB)\n",
      "Requirement already satisfied: numpy in /home/ec2-user/anaconda3/envs/mxnet_latest_p37/lib/python3.7/site-packages (from gluoncv) (1.21.3)\n",
      "Requirement already satisfied: pandas in /home/ec2-user/anaconda3/envs/mxnet_latest_p37/lib/python3.7/site-packages (from gluoncv) (1.3.4)\n",
      "Requirement already satisfied: Pillow in /home/ec2-user/anaconda3/envs/mxnet_latest_p37/lib/python3.7/site-packages (from gluoncv) (8.3.2)\n",
      "Requirement already satisfied: opencv-python in /home/ec2-user/anaconda3/envs/mxnet_latest_p37/lib/python3.7/site-packages (from gluoncv) (4.5.1.48)\n",
      "Requirement already satisfied: python-dateutil>=2.1 in /home/ec2-user/anaconda3/envs/mxnet_latest_p37/lib/python3.7/site-packages (from matplotlib->gluoncv) (2.8.2)\n",
      "Requirement already satisfied: kiwisolver>=1.0.1 in /home/ec2-user/anaconda3/envs/mxnet_latest_p37/lib/python3.7/site-packages (from matplotlib->gluoncv) (1.3.1)\n",
      "Requirement already satisfied: pyparsing!=2.0.4,!=2.1.2,!=2.1.6,>=2.0.3 in /home/ec2-user/anaconda3/envs/mxnet_latest_p37/lib/python3.7/site-packages (from matplotlib->gluoncv) (3.0.1)\n",
      "Requirement already satisfied: cycler>=0.10 in /home/ec2-user/anaconda3/envs/mxnet_latest_p37/lib/python3.7/site-packages (from matplotlib->gluoncv) (0.10.0)\n",
      "Requirement already satisfied: six in /home/ec2-user/anaconda3/envs/mxnet_latest_p37/lib/python3.7/site-packages (from cycler>=0.10->matplotlib->gluoncv) (1.16.0)\n",
      "Requirement already satisfied: pytz>=2017.3 in /home/ec2-user/anaconda3/envs/mxnet_latest_p37/lib/python3.7/site-packages (from pandas->gluoncv) (2021.3)\n",
      "Requirement already satisfied: certifi>=2017.4.17 in /home/ec2-user/anaconda3/envs/mxnet_latest_p37/lib/python3.7/site-packages (from requests->gluoncv) (2021.10.8)\n",
      "Requirement already satisfied: urllib3<1.27,>=1.21.1 in /home/ec2-user/anaconda3/envs/mxnet_latest_p37/lib/python3.7/site-packages (from requests->gluoncv) (1.26.7)\n",
      "Requirement already satisfied: idna<4,>=2.5 in /home/ec2-user/anaconda3/envs/mxnet_latest_p37/lib/python3.7/site-packages (from requests->gluoncv) (3.3)\n",
      "Requirement already satisfied: charset-normalizer~=2.0.0 in /home/ec2-user/anaconda3/envs/mxnet_latest_p37/lib/python3.7/site-packages (from requests->gluoncv) (2.0.7)\n",
      "Installing collected packages: yacs, portalocker, autocfg, gluoncv\n",
      "Successfully installed autocfg-0.0.8 gluoncv-0.10.4.post4 portalocker-2.3.2 yacs-0.1.8\n",
      "\u001b[33mWARNING: You are using pip version 21.2.4; however, version 21.3.1 is available.\n",
      "You should consider upgrading via the '/home/ec2-user/anaconda3/envs/mxnet_latest_p37/bin/python -m pip install --upgrade pip' command.\u001b[0m\n",
      "Collecting xtarfile\n",
      "  Downloading xtarfile-0.1.0.tar.gz (3.4 kB)\n",
      "Building wheels for collected packages: xtarfile\n",
      "  Building wheel for xtarfile (setup.py) ... \u001b[?25ldone\n",
      "\u001b[?25h  Created wheel for xtarfile: filename=xtarfile-0.1.0-py3-none-any.whl size=3861 sha256=dcdae3438d42b39375ebc83eceb8b91a15800b55d96943a64d75c261cc4b67ea\n",
      "  Stored in directory: /home/ec2-user/.cache/pip/wheels/14/ed/96/b06b7600d9d2eb6068fed8ded4282aeb3addf5b213dfe48819\n",
      "Successfully built xtarfile\n",
      "Installing collected packages: xtarfile\n",
      "Successfully installed xtarfile-0.1.0\n",
      "\u001b[33mWARNING: You are using pip version 21.2.4; however, version 21.3.1 is available.\n",
      "You should consider upgrading via the '/home/ec2-user/anaconda3/envs/mxnet_latest_p37/bin/python -m pip install --upgrade pip' command.\u001b[0m\n"
     ]
    }
   ],
   "source": [
    "!pip3 install gluoncv\n",
    "!pip3 install xtarfile"
   ]
  },
  {
   "cell_type": "code",
   "execution_count": 31,
   "id": "d8aa8a1f",
   "metadata": {},
   "outputs": [],
   "source": [
    "import numpy as np\n",
    "import mxnet as mx \n",
    "import gluoncv as gcv\n",
    "import xtarfile as tarfile\n",
    "import sagemaker\n",
    "import boto3\n",
    "import time"
   ]
  },
  {
   "cell_type": "markdown",
   "id": "277b0293",
   "metadata": {},
   "source": [
    "## Model download and hybridize\n",
    "Use the following code to download the pre-trained model from MXNet model zoo. If you want to use models from other frameworks, you can use check out the [model preparation page](https://docs.aws.amazon.com/sagemaker/latest/dg/neo-compilation-preparing-model.html) on developer's guide to find out more information.\n",
    "\n",
    "In the second line, we hybridize the model and run through it once with randomized input of the expected input size. For more information about hybridizing models, please checkout the [MXNet explanation on hybridize](https://mxnet.apache.org/versions/1.7.0/api/python/docs/tutorials/packages/gluon/blocks/hybridize.html)."
   ]
  },
  {
   "cell_type": "code",
   "execution_count": 10,
   "id": "414b07ef",
   "metadata": {},
   "outputs": [],
   "source": [
    "net = gcv.model_zoo.get_model('yolo3_mobilenet1.0_coco', pretrained=True)\n",
    "net.hybridize()\n",
    "out = net(mx.nd.ones((1,3,224,224)))"
   ]
  },
  {
   "cell_type": "code",
   "execution_count": 12,
   "id": "62f18c23",
   "metadata": {},
   "outputs": [],
   "source": [
    "net.export('yolo3_mobilenet1.0_coco')\n",
    "tar = tarfile.open(\"model.tar.gz\", \"w:gz\")\n",
    "for name in [\"yolo3_mobilenet1.0_coco-0000.params\", \"yolo3_mobilenet1.0_coco-symbol.json\"]:\n",
    "    tar.add(name)\n",
    "tar.close()"
   ]
  },
  {
   "cell_type": "markdown",
   "id": "490dffbf",
   "metadata": {},
   "source": [
    "## Tar the model, and upload our model to S3\n",
    "Since in this notebook instance, there is already a execution role assiciated with it, we do not need to provision all the credentials. And in this example, for the simplicity, we are going to get the default bucket. SageMaker has a default bucket for each account (starts with sagemaker-) in the same region of this notebook instance. We are going to store all of the artifacts and compiled models within that default bucket. Feel free to change the bucket location if needed otherwise."
   ]
  },
  {
   "cell_type": "code",
   "execution_count": 32,
   "id": "29cfd363",
   "metadata": {},
   "outputs": [
    {
     "name": "stdout",
     "output_type": "stream",
     "text": [
      "arn:aws:iam::121984884871:role/smem-role\n"
     ]
    }
   ],
   "source": [
    "from sagemaker.utils import name_from_base\n",
    "\n",
    "role = sagemaker.get_execution_role()\n",
    "print(role)\n",
    "sess = sagemaker.Session()\n",
    "region = sess.boto_region_name\n",
    "bucket = sess.default_bucket()\n",
    "\n",
    "compilation_job_name = name_from_base(\"MXNet-yolo3-mobilenet10-Jetson-Nano\")\n",
    "prefix = compilation_job_name + \"/model\"\n",
    "model_path = sess.upload_data(path=\"model.tar.gz\", key_prefix=prefix)\n",
    "\n",
    "data_shape = '{\"data\":[1,3,224,224]}'\n",
    "target_platform = {'Os': 'LINUX', 'Arch': 'ARM64', 'Accelerator': 'NVIDIA'}\n",
    "compiler_options = '{\"trt-ver\": \"7.1.3\", \"cuda-ver\": \"10.2\", \"gpu-code\": \"sm_53\"}'\n",
    "framework = \"MXNET\"\n",
    "framework_version = \"1.7\"\n",
    "compiled_model_path = \"s3://{}/{}/output\".format(bucket, compilation_job_name)"
   ]
  },
  {
   "cell_type": "markdown",
   "id": "5736d6f7",
   "metadata": {},
   "source": [
    "## Start compilation job\n",
    "Start compilation job, and start a polling process to wait for the compilation job to succeed. It could take around 5 minutes."
   ]
  },
  {
   "cell_type": "code",
   "execution_count": 33,
   "id": "4abe1d24",
   "metadata": {},
   "outputs": [
    {
     "name": "stdout",
     "output_type": "stream",
     "text": [
      "Compiling ...\n",
      "Compiling ...\n",
      "Compiling ...\n",
      "Compiling ...\n",
      "Compiling ...\n",
      "Compiling ...\n",
      "Compiling ...\n",
      "Compiling ...\n",
      "Done!\n"
     ]
    }
   ],
   "source": [
    "# Create a SageMaker client so you can submit a compilation job\n",
    "sagemaker_client = boto3.client('sagemaker')\n",
    "\n",
    "response = sagemaker_client.create_compilation_job(\n",
    "    CompilationJobName=compilation_job_name,\n",
    "    RoleArn=role,\n",
    "    InputConfig={\n",
    "        'S3Uri': model_path,\n",
    "        'DataInputConfig': data_shape,\n",
    "        'Framework': framework.upper()\n",
    "    },\n",
    "    OutputConfig={\n",
    "        'S3OutputLocation': compiled_model_path,\n",
    "        'TargetPlatform': target_platform,\n",
    "        'CompilerOptions': compiler_options\n",
    "    },\n",
    "    StoppingCondition={\n",
    "        'MaxRuntimeInSeconds': 900\n",
    "    }\n",
    ")\n",
    "while True:\n",
    "    response = sagemaker_client.describe_compilation_job(CompilationJobName=compilation_job_name)\n",
    "    if response['CompilationJobStatus'] == 'COMPLETED':\n",
    "        break\n",
    "    elif response['CompilationJobStatus'] == 'FAILED':\n",
    "        raise RuntimeError('Compilation failed')\n",
    "    print('Compiling ...')\n",
    "    time.sleep(30)\n",
    "print('Done!')"
   ]
  },
  {
   "cell_type": "markdown",
   "id": "1a591442",
   "metadata": {},
   "source": [
    "## Repackage compiled model in zip file for Greengrass deployment\n",
    "Since NEO compilation output is in the format of .tar.gz, but AWS IoT Greengrass only accepts .zip. We need the following step to convert the compiled model to convert the format in order for the archived file to be downloaded and unpacked by Greengrass service."
   ]
  },
  {
   "cell_type": "code",
   "execution_count": 38,
   "id": "13bf5dd9",
   "metadata": {},
   "outputs": [
    {
     "name": "stdout",
     "output_type": "stream",
     "text": [
      "mkdir: cannot create directory ‘model’: File exists\n",
      "yolo3_mobilenet1.0_coco-0000.params\n",
      "yolo3_mobilenet1.0_coco-symbol.json\n",
      "  adding: model/code/ (stored 0%)\n",
      "  adding: model/disconnect/ (stored 0%)\n",
      "  adding: model/model.tar.gz (deflated 2%)\n",
      "  adding: model/server.log (deflated 84%)\n",
      "  adding: model/yolo3_mobilenet1.0_coco-0000.params (deflated 8%)\n",
      "  adding: model/yolo3_mobilenet1.0_coco-symbol.json (deflated 95%)\n"
     ]
    }
   ],
   "source": [
    "s3_client = boto3.client('s3')\n",
    "neo_compiled_model = 'compiled-model.tar.gz'\n",
    "s3_client.download_file(bucket, prefix+'/model.tar.gz', neo_compiled_model)\n",
    "!mkdir model\n",
    "!tar zfxv compiled-model.tar.gz -C model/\n",
    "!zip compiled-model.zip model/*\n",
    "s3_client.upload_file('compiled-model.zip', bucket, '{}/model_zipped/model.zip'.format(compilation_job_name))"
   ]
  },
  {
   "cell_type": "code",
   "execution_count": 39,
   "id": "0f773856",
   "metadata": {},
   "outputs": [
    {
     "data": {
      "text/plain": [
       "'s://sagemaker-us-west-2-121984884871/MXNet-yolo3-mobilenet10-Jetson-Nano-2021-11-15-03-18-21-004/model_zipped/model.zip'"
      ]
     },
     "execution_count": 39,
     "metadata": {},
     "output_type": "execute_result"
    }
   ],
   "source": [
    "f's://{bucket}/{compilation_job_name}/model_zipped/model.zip'"
   ]
  },
  {
   "cell_type": "code",
   "execution_count": null,
   "id": "27205596",
   "metadata": {},
   "outputs": [],
   "source": []
  }
 ],
 "metadata": {
  "kernelspec": {
   "display_name": "conda_mxnet_latest_p37",
   "language": "python",
   "name": "conda_mxnet_latest_p37"
  },
  "language_info": {
   "codemirror_mode": {
    "name": "ipython",
    "version": 3
   },
   "file_extension": ".py",
   "mimetype": "text/x-python",
   "name": "python",
   "nbconvert_exporter": "python",
   "pygments_lexer": "ipython3",
   "version": "3.7.10"
  }
 },
 "nbformat": 4,
 "nbformat_minor": 5
}
